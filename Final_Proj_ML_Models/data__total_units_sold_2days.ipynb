{
 "cells": [
  {
   "cell_type": "code",
   "execution_count": 1,
   "metadata": {},
   "outputs": [],
   "source": [
    "import matplotlib.pyplot as plt\n",
    "import numpy as np\n",
    "import pandas as pd\n",
    "from datetime import date\n",
    "import datetime\n",
    "from sklearn.model_selection import train_test_split\n",
    "from sklearn.linear_model import LinearRegression\n",
    "import matplotlib.pyplot as plt\n",
    "import seaborn as sns\n",
    "from sklearn import metrics"
   ]
  },
  {
   "cell_type": "code",
   "execution_count": 2,
   "metadata": {},
   "outputs": [],
   "source": [
    "# Try getting a better score, re-evaluated the available data and decided to try: \n",
    "# Predict: Total unit sales (total sum by year and by item_nbr on 12/24)\n",
    "# Convert store_nbr to a count of stores that sold an item_nbr\n",
    "# Convert onpromotion to a sum of stores that had item on promotion"
   ]
  },
  {
   "cell_type": "code",
   "execution_count": 3,
   "metadata": {},
   "outputs": [],
   "source": [
    "# Read the csv file into a pandas DataFrame\n",
    "data2014 = pd.read_csv('Resources/navidad_2014.csv')\n",
    "data2015 = pd.read_csv('Resources/navidad_2015.csv')\n",
    "data2016 = pd.read_csv('Resources/navidad_2016.csv')\n",
    "data2014_26 = pd.read_csv('Resources/navidad_2014_12_26.csv')\n",
    "data2015_26 = pd.read_csv('Resources/navidad_2015_12_26.csv')\n",
    "data2016_26 = pd.read_csv('Resources/navidad_2016_12_26.csv')\n",
    "data_df = data2014.append(data2015, ignore_index=True)\n",
    "data_df = data_df.append(data2016, ignore_index=True)\n",
    "data_df = data_df.append(data2014_26, ignore_index=True)\n",
    "data_df = data_df.append(data2015_26, ignore_index=True)\n",
    "data_df = data_df.append(data2016_26, ignore_index=True)"
   ]
  },
  {
   "cell_type": "code",
   "execution_count": 4,
   "metadata": {},
   "outputs": [
    {
     "data": {
      "text/html": [
       "<div>\n",
       "<style scoped>\n",
       "    .dataframe tbody tr th:only-of-type {\n",
       "        vertical-align: middle;\n",
       "    }\n",
       "\n",
       "    .dataframe tbody tr th {\n",
       "        vertical-align: top;\n",
       "    }\n",
       "\n",
       "    .dataframe thead th {\n",
       "        text-align: right;\n",
       "    }\n",
       "</style>\n",
       "<table border=\"1\" class=\"dataframe\">\n",
       "  <thead>\n",
       "    <tr style=\"text-align: right;\">\n",
       "      <th></th>\n",
       "      <th>id</th>\n",
       "      <th>date</th>\n",
       "      <th>store_nbr</th>\n",
       "      <th>item_nbr</th>\n",
       "      <th>unit_sales</th>\n",
       "      <th>onpromotion</th>\n",
       "    </tr>\n",
       "  </thead>\n",
       "  <tbody>\n",
       "    <tr>\n",
       "      <th>0</th>\n",
       "      <td>38069001</td>\n",
       "      <td>2014-12-24</td>\n",
       "      <td>1</td>\n",
       "      <td>103520</td>\n",
       "      <td>3.0</td>\n",
       "      <td>False</td>\n",
       "    </tr>\n",
       "    <tr>\n",
       "      <th>1</th>\n",
       "      <td>38069002</td>\n",
       "      <td>2014-12-24</td>\n",
       "      <td>1</td>\n",
       "      <td>103665</td>\n",
       "      <td>6.0</td>\n",
       "      <td>False</td>\n",
       "    </tr>\n",
       "    <tr>\n",
       "      <th>2</th>\n",
       "      <td>38069003</td>\n",
       "      <td>2014-12-24</td>\n",
       "      <td>1</td>\n",
       "      <td>105574</td>\n",
       "      <td>1.0</td>\n",
       "      <td>False</td>\n",
       "    </tr>\n",
       "    <tr>\n",
       "      <th>3</th>\n",
       "      <td>38069004</td>\n",
       "      <td>2014-12-24</td>\n",
       "      <td>1</td>\n",
       "      <td>105575</td>\n",
       "      <td>14.0</td>\n",
       "      <td>False</td>\n",
       "    </tr>\n",
       "    <tr>\n",
       "      <th>4</th>\n",
       "      <td>38069005</td>\n",
       "      <td>2014-12-24</td>\n",
       "      <td>1</td>\n",
       "      <td>105857</td>\n",
       "      <td>1.0</td>\n",
       "      <td>False</td>\n",
       "    </tr>\n",
       "  </tbody>\n",
       "</table>\n",
       "</div>"
      ],
      "text/plain": [
       "         id        date  store_nbr  item_nbr  unit_sales  onpromotion\n",
       "0  38069001  2014-12-24          1    103520         3.0        False\n",
       "1  38069002  2014-12-24          1    103665         6.0        False\n",
       "2  38069003  2014-12-24          1    105574         1.0        False\n",
       "3  38069004  2014-12-24          1    105575        14.0        False\n",
       "4  38069005  2014-12-24          1    105857         1.0        False"
      ]
     },
     "execution_count": 4,
     "metadata": {},
     "output_type": "execute_result"
    }
   ],
   "source": [
    "data_df.head()"
   ]
  },
  {
   "cell_type": "code",
   "execution_count": 5,
   "metadata": {},
   "outputs": [
    {
     "data": {
      "text/plain": [
       "id               int64\n",
       "date            object\n",
       "store_nbr        int64\n",
       "item_nbr         int64\n",
       "unit_sales     float64\n",
       "onpromotion       bool\n",
       "dtype: object"
      ]
     },
     "execution_count": 5,
     "metadata": {},
     "output_type": "execute_result"
    }
   ],
   "source": [
    "data_df.dtypes"
   ]
  },
  {
   "cell_type": "code",
   "execution_count": 6,
   "metadata": {},
   "outputs": [
    {
     "data": {
      "text/plain": [
       "id                      int64\n",
       "date           datetime64[ns]\n",
       "store_nbr               int64\n",
       "item_nbr                int64\n",
       "unit_sales            float64\n",
       "onpromotion              bool\n",
       "dtype: object"
      ]
     },
     "execution_count": 6,
     "metadata": {},
     "output_type": "execute_result"
    }
   ],
   "source": [
    "from datetime import date\n",
    "import datetime\n",
    "# all NA values were already dropped with initial clean/sectioning by year\n",
    "#data_df.isna().sum()\n",
    "# convert the 'Date' column to datetime format \n",
    "data_df['date']= pd.to_datetime(data_df['date'])\n",
    "data_df.dtypes"
   ]
  },
  {
   "cell_type": "code",
   "execution_count": 7,
   "metadata": {
    "scrolled": true
   },
   "outputs": [
    {
     "data": {
      "text/html": [
       "<div>\n",
       "<style scoped>\n",
       "    .dataframe tbody tr th:only-of-type {\n",
       "        vertical-align: middle;\n",
       "    }\n",
       "\n",
       "    .dataframe tbody tr th {\n",
       "        vertical-align: top;\n",
       "    }\n",
       "\n",
       "    .dataframe thead th {\n",
       "        text-align: right;\n",
       "    }\n",
       "</style>\n",
       "<table border=\"1\" class=\"dataframe\">\n",
       "  <thead>\n",
       "    <tr style=\"text-align: right;\">\n",
       "      <th></th>\n",
       "      <th>id</th>\n",
       "      <th>date</th>\n",
       "      <th>store_nbr</th>\n",
       "      <th>item_nbr</th>\n",
       "      <th>unit_sales</th>\n",
       "      <th>onpromotion</th>\n",
       "      <th>year</th>\n",
       "      <th>day</th>\n",
       "    </tr>\n",
       "  </thead>\n",
       "  <tbody>\n",
       "    <tr>\n",
       "      <th>0</th>\n",
       "      <td>38069001</td>\n",
       "      <td>2014-12-24</td>\n",
       "      <td>1</td>\n",
       "      <td>103520</td>\n",
       "      <td>3.0</td>\n",
       "      <td>False</td>\n",
       "      <td>2014</td>\n",
       "      <td>24</td>\n",
       "    </tr>\n",
       "    <tr>\n",
       "      <th>1</th>\n",
       "      <td>38069002</td>\n",
       "      <td>2014-12-24</td>\n",
       "      <td>1</td>\n",
       "      <td>103665</td>\n",
       "      <td>6.0</td>\n",
       "      <td>False</td>\n",
       "      <td>2014</td>\n",
       "      <td>24</td>\n",
       "    </tr>\n",
       "    <tr>\n",
       "      <th>2</th>\n",
       "      <td>38069003</td>\n",
       "      <td>2014-12-24</td>\n",
       "      <td>1</td>\n",
       "      <td>105574</td>\n",
       "      <td>1.0</td>\n",
       "      <td>False</td>\n",
       "      <td>2014</td>\n",
       "      <td>24</td>\n",
       "    </tr>\n",
       "    <tr>\n",
       "      <th>3</th>\n",
       "      <td>38069004</td>\n",
       "      <td>2014-12-24</td>\n",
       "      <td>1</td>\n",
       "      <td>105575</td>\n",
       "      <td>14.0</td>\n",
       "      <td>False</td>\n",
       "      <td>2014</td>\n",
       "      <td>24</td>\n",
       "    </tr>\n",
       "    <tr>\n",
       "      <th>4</th>\n",
       "      <td>38069005</td>\n",
       "      <td>2014-12-24</td>\n",
       "      <td>1</td>\n",
       "      <td>105857</td>\n",
       "      <td>1.0</td>\n",
       "      <td>False</td>\n",
       "      <td>2014</td>\n",
       "      <td>24</td>\n",
       "    </tr>\n",
       "  </tbody>\n",
       "</table>\n",
       "</div>"
      ],
      "text/plain": [
       "         id       date  store_nbr  item_nbr  unit_sales  onpromotion  year  \\\n",
       "0  38069001 2014-12-24          1    103520         3.0        False  2014   \n",
       "1  38069002 2014-12-24          1    103665         6.0        False  2014   \n",
       "2  38069003 2014-12-24          1    105574         1.0        False  2014   \n",
       "3  38069004 2014-12-24          1    105575        14.0        False  2014   \n",
       "4  38069005 2014-12-24          1    105857         1.0        False  2014   \n",
       "\n",
       "   day  \n",
       "0   24  \n",
       "1   24  \n",
       "2   24  \n",
       "3   24  \n",
       "4   24  "
      ]
     },
     "execution_count": 7,
     "metadata": {},
     "output_type": "execute_result"
    }
   ],
   "source": [
    "# extract the year from the date since that is the only difference in date\n",
    "#make copy of df\n",
    "data_df2 = data_df.copy()\n",
    "data_df2['year'] = pd.DatetimeIndex(data_df2['date']).year\n",
    "data_df2['day'] = pd.DatetimeIndex(data_df2['date']).day\n",
    "data_df2.head()"
   ]
  },
  {
   "cell_type": "code",
   "execution_count": 8,
   "metadata": {},
   "outputs": [
    {
     "data": {
      "text/plain": [
       "id                      int64\n",
       "date           datetime64[ns]\n",
       "store_nbr               int64\n",
       "item_nbr                int64\n",
       "unit_sales            float64\n",
       "onpromotion              bool\n",
       "year                    int64\n",
       "day                     int64\n",
       "dtype: object"
      ]
     },
     "execution_count": 8,
     "metadata": {},
     "output_type": "execute_result"
    }
   ],
   "source": [
    "data_df2.dtypes"
   ]
  },
  {
   "cell_type": "code",
   "execution_count": 9,
   "metadata": {},
   "outputs": [
    {
     "data": {
      "text/plain": [
       "id             0\n",
       "date           0\n",
       "store_nbr      0\n",
       "item_nbr       0\n",
       "unit_sales     0\n",
       "onpromotion    0\n",
       "year           0\n",
       "day            0\n",
       "dtype: int64"
      ]
     },
     "execution_count": 9,
     "metadata": {},
     "output_type": "execute_result"
    }
   ],
   "source": [
    "# double checking na values\n",
    "data_df2.isna().sum()"
   ]
  },
  {
   "cell_type": "code",
   "execution_count": 10,
   "metadata": {},
   "outputs": [],
   "source": [
    "#drop date column\n",
    "data_df2 = data_df2.drop(['date'], axis = 1)"
   ]
  },
  {
   "cell_type": "code",
   "execution_count": 11,
   "metadata": {},
   "outputs": [
    {
     "data": {
      "text/html": [
       "<div>\n",
       "<style scoped>\n",
       "    .dataframe tbody tr th:only-of-type {\n",
       "        vertical-align: middle;\n",
       "    }\n",
       "\n",
       "    .dataframe tbody tr th {\n",
       "        vertical-align: top;\n",
       "    }\n",
       "\n",
       "    .dataframe thead th {\n",
       "        text-align: right;\n",
       "    }\n",
       "</style>\n",
       "<table border=\"1\" class=\"dataframe\">\n",
       "  <thead>\n",
       "    <tr style=\"text-align: right;\">\n",
       "      <th></th>\n",
       "      <th>store_nbr</th>\n",
       "      <th>item_nbr</th>\n",
       "      <th>unit_sales</th>\n",
       "      <th>onpromotion</th>\n",
       "      <th>year</th>\n",
       "      <th>day</th>\n",
       "    </tr>\n",
       "    <tr>\n",
       "      <th>id</th>\n",
       "      <th></th>\n",
       "      <th></th>\n",
       "      <th></th>\n",
       "      <th></th>\n",
       "      <th></th>\n",
       "      <th></th>\n",
       "    </tr>\n",
       "  </thead>\n",
       "  <tbody>\n",
       "    <tr>\n",
       "      <th>38069001</th>\n",
       "      <td>1</td>\n",
       "      <td>103520</td>\n",
       "      <td>3.0</td>\n",
       "      <td>False</td>\n",
       "      <td>2014</td>\n",
       "      <td>24</td>\n",
       "    </tr>\n",
       "    <tr>\n",
       "      <th>38069002</th>\n",
       "      <td>1</td>\n",
       "      <td>103665</td>\n",
       "      <td>6.0</td>\n",
       "      <td>False</td>\n",
       "      <td>2014</td>\n",
       "      <td>24</td>\n",
       "    </tr>\n",
       "    <tr>\n",
       "      <th>38069003</th>\n",
       "      <td>1</td>\n",
       "      <td>105574</td>\n",
       "      <td>1.0</td>\n",
       "      <td>False</td>\n",
       "      <td>2014</td>\n",
       "      <td>24</td>\n",
       "    </tr>\n",
       "    <tr>\n",
       "      <th>38069004</th>\n",
       "      <td>1</td>\n",
       "      <td>105575</td>\n",
       "      <td>14.0</td>\n",
       "      <td>False</td>\n",
       "      <td>2014</td>\n",
       "      <td>24</td>\n",
       "    </tr>\n",
       "    <tr>\n",
       "      <th>38069005</th>\n",
       "      <td>1</td>\n",
       "      <td>105857</td>\n",
       "      <td>1.0</td>\n",
       "      <td>False</td>\n",
       "      <td>2014</td>\n",
       "      <td>24</td>\n",
       "    </tr>\n",
       "  </tbody>\n",
       "</table>\n",
       "</div>"
      ],
      "text/plain": [
       "          store_nbr  item_nbr  unit_sales  onpromotion  year  day\n",
       "id                                                               \n",
       "38069001          1    103520         3.0        False  2014   24\n",
       "38069002          1    103665         6.0        False  2014   24\n",
       "38069003          1    105574         1.0        False  2014   24\n",
       "38069004          1    105575        14.0        False  2014   24\n",
       "38069005          1    105857         1.0        False  2014   24"
      ]
     },
     "execution_count": 11,
     "metadata": {},
     "output_type": "execute_result"
    }
   ],
   "source": [
    "#set index to id\n",
    "data_df2.set_index('id', inplace=True, drop=True)\n",
    "data_df2.head()"
   ]
  },
  {
   "cell_type": "code",
   "execution_count": 12,
   "metadata": {},
   "outputs": [],
   "source": [
    "data_df2[\"onpromotion\"] = data_df2[\"onpromotion\"].astype(int)"
   ]
  },
  {
   "cell_type": "code",
   "execution_count": 13,
   "metadata": {},
   "outputs": [
    {
     "data": {
      "text/html": [
       "<div>\n",
       "<style scoped>\n",
       "    .dataframe tbody tr th:only-of-type {\n",
       "        vertical-align: middle;\n",
       "    }\n",
       "\n",
       "    .dataframe tbody tr th {\n",
       "        vertical-align: top;\n",
       "    }\n",
       "\n",
       "    .dataframe thead th {\n",
       "        text-align: right;\n",
       "    }\n",
       "</style>\n",
       "<table border=\"1\" class=\"dataframe\">\n",
       "  <thead>\n",
       "    <tr style=\"text-align: right;\">\n",
       "      <th></th>\n",
       "      <th>item_nbr</th>\n",
       "      <th>year</th>\n",
       "      <th>day</th>\n",
       "      <th>store_nbr</th>\n",
       "      <th>unit_sales</th>\n",
       "      <th>onpromotion</th>\n",
       "    </tr>\n",
       "  </thead>\n",
       "  <tbody>\n",
       "    <tr>\n",
       "      <th>0</th>\n",
       "      <td>99197</td>\n",
       "      <td>2015</td>\n",
       "      <td>24</td>\n",
       "      <td>2</td>\n",
       "      <td>2</td>\n",
       "      <td>2</td>\n",
       "    </tr>\n",
       "    <tr>\n",
       "      <th>1</th>\n",
       "      <td>99197</td>\n",
       "      <td>2015</td>\n",
       "      <td>26</td>\n",
       "      <td>1</td>\n",
       "      <td>1</td>\n",
       "      <td>1</td>\n",
       "    </tr>\n",
       "    <tr>\n",
       "      <th>2</th>\n",
       "      <td>99197</td>\n",
       "      <td>2016</td>\n",
       "      <td>24</td>\n",
       "      <td>19</td>\n",
       "      <td>19</td>\n",
       "      <td>19</td>\n",
       "    </tr>\n",
       "    <tr>\n",
       "      <th>3</th>\n",
       "      <td>99197</td>\n",
       "      <td>2016</td>\n",
       "      <td>26</td>\n",
       "      <td>15</td>\n",
       "      <td>15</td>\n",
       "      <td>15</td>\n",
       "    </tr>\n",
       "    <tr>\n",
       "      <th>4</th>\n",
       "      <td>103501</td>\n",
       "      <td>2014</td>\n",
       "      <td>24</td>\n",
       "      <td>21</td>\n",
       "      <td>21</td>\n",
       "      <td>21</td>\n",
       "    </tr>\n",
       "  </tbody>\n",
       "</table>\n",
       "</div>"
      ],
      "text/plain": [
       "   item_nbr  year  day  store_nbr  unit_sales  onpromotion\n",
       "0     99197  2015   24          2           2            2\n",
       "1     99197  2015   26          1           1            1\n",
       "2     99197  2016   24         19          19           19\n",
       "3     99197  2016   26         15          15           15\n",
       "4    103501  2014   24         21          21           21"
      ]
     },
     "execution_count": 13,
     "metadata": {},
     "output_type": "execute_result"
    }
   ],
   "source": [
    "data_df_count = data_df2.groupby(['item_nbr', 'year', 'day']).count() \n",
    "data_df_count = data_df_count.reset_index()\n",
    "data_df_count.head()"
   ]
  },
  {
   "cell_type": "code",
   "execution_count": 14,
   "metadata": {},
   "outputs": [
    {
     "data": {
      "text/html": [
       "<div>\n",
       "<style scoped>\n",
       "    .dataframe tbody tr th:only-of-type {\n",
       "        vertical-align: middle;\n",
       "    }\n",
       "\n",
       "    .dataframe tbody tr th {\n",
       "        vertical-align: top;\n",
       "    }\n",
       "\n",
       "    .dataframe thead th {\n",
       "        text-align: right;\n",
       "    }\n",
       "</style>\n",
       "<table border=\"1\" class=\"dataframe\">\n",
       "  <thead>\n",
       "    <tr style=\"text-align: right;\">\n",
       "      <th></th>\n",
       "      <th></th>\n",
       "      <th></th>\n",
       "      <th>store_nbr</th>\n",
       "      <th>unit_sales</th>\n",
       "      <th>onpromotion</th>\n",
       "    </tr>\n",
       "    <tr>\n",
       "      <th>item_nbr</th>\n",
       "      <th>year</th>\n",
       "      <th>day</th>\n",
       "      <th></th>\n",
       "      <th></th>\n",
       "      <th></th>\n",
       "    </tr>\n",
       "  </thead>\n",
       "  <tbody>\n",
       "    <tr>\n",
       "      <th rowspan=\"4\" valign=\"top\">99197</th>\n",
       "      <th rowspan=\"2\" valign=\"top\">2015</th>\n",
       "      <th>24</th>\n",
       "      <td>71</td>\n",
       "      <td>4.0</td>\n",
       "      <td>0</td>\n",
       "    </tr>\n",
       "    <tr>\n",
       "      <th>26</th>\n",
       "      <td>25</td>\n",
       "      <td>2.0</td>\n",
       "      <td>0</td>\n",
       "    </tr>\n",
       "    <tr>\n",
       "      <th rowspan=\"2\" valign=\"top\">2016</th>\n",
       "      <th>24</th>\n",
       "      <td>619</td>\n",
       "      <td>56.0</td>\n",
       "      <td>0</td>\n",
       "    </tr>\n",
       "    <tr>\n",
       "      <th>26</th>\n",
       "      <td>514</td>\n",
       "      <td>37.0</td>\n",
       "      <td>0</td>\n",
       "    </tr>\n",
       "    <tr>\n",
       "      <th>103501</th>\n",
       "      <th>2014</th>\n",
       "      <th>24</th>\n",
       "      <td>523</td>\n",
       "      <td>93.0</td>\n",
       "      <td>0</td>\n",
       "    </tr>\n",
       "  </tbody>\n",
       "</table>\n",
       "</div>"
      ],
      "text/plain": [
       "                   store_nbr  unit_sales  onpromotion\n",
       "item_nbr year day                                    \n",
       "99197    2015 24          71         4.0            0\n",
       "              26          25         2.0            0\n",
       "         2016 24         619        56.0            0\n",
       "              26         514        37.0            0\n",
       "103501   2014 24         523        93.0            0"
      ]
     },
     "execution_count": 14,
     "metadata": {},
     "output_type": "execute_result"
    }
   ],
   "source": [
    "data_df3 = data_df2.copy()\n",
    "data_df3 = data_df3.groupby(['item_nbr', 'year', 'day']).sum() \n",
    "data_df3.head()"
   ]
  },
  {
   "cell_type": "code",
   "execution_count": 15,
   "metadata": {},
   "outputs": [
    {
     "data": {
      "text/html": [
       "<div>\n",
       "<style scoped>\n",
       "    .dataframe tbody tr th:only-of-type {\n",
       "        vertical-align: middle;\n",
       "    }\n",
       "\n",
       "    .dataframe tbody tr th {\n",
       "        vertical-align: top;\n",
       "    }\n",
       "\n",
       "    .dataframe thead th {\n",
       "        text-align: right;\n",
       "    }\n",
       "</style>\n",
       "<table border=\"1\" class=\"dataframe\">\n",
       "  <thead>\n",
       "    <tr style=\"text-align: right;\">\n",
       "      <th></th>\n",
       "      <th>item_nbr</th>\n",
       "      <th>year</th>\n",
       "      <th>day</th>\n",
       "      <th>store_nbr</th>\n",
       "      <th>unit_sales</th>\n",
       "      <th>onpromotion</th>\n",
       "    </tr>\n",
       "  </thead>\n",
       "  <tbody>\n",
       "    <tr>\n",
       "      <th>0</th>\n",
       "      <td>99197</td>\n",
       "      <td>2015</td>\n",
       "      <td>24</td>\n",
       "      <td>71</td>\n",
       "      <td>4.0</td>\n",
       "      <td>0</td>\n",
       "    </tr>\n",
       "    <tr>\n",
       "      <th>1</th>\n",
       "      <td>99197</td>\n",
       "      <td>2015</td>\n",
       "      <td>26</td>\n",
       "      <td>25</td>\n",
       "      <td>2.0</td>\n",
       "      <td>0</td>\n",
       "    </tr>\n",
       "    <tr>\n",
       "      <th>2</th>\n",
       "      <td>99197</td>\n",
       "      <td>2016</td>\n",
       "      <td>24</td>\n",
       "      <td>619</td>\n",
       "      <td>56.0</td>\n",
       "      <td>0</td>\n",
       "    </tr>\n",
       "    <tr>\n",
       "      <th>3</th>\n",
       "      <td>99197</td>\n",
       "      <td>2016</td>\n",
       "      <td>26</td>\n",
       "      <td>514</td>\n",
       "      <td>37.0</td>\n",
       "      <td>0</td>\n",
       "    </tr>\n",
       "    <tr>\n",
       "      <th>4</th>\n",
       "      <td>103501</td>\n",
       "      <td>2014</td>\n",
       "      <td>24</td>\n",
       "      <td>523</td>\n",
       "      <td>93.0</td>\n",
       "      <td>0</td>\n",
       "    </tr>\n",
       "    <tr>\n",
       "      <th>5</th>\n",
       "      <td>103501</td>\n",
       "      <td>2014</td>\n",
       "      <td>26</td>\n",
       "      <td>589</td>\n",
       "      <td>108.0</td>\n",
       "      <td>0</td>\n",
       "    </tr>\n",
       "    <tr>\n",
       "      <th>6</th>\n",
       "      <td>103501</td>\n",
       "      <td>2015</td>\n",
       "      <td>24</td>\n",
       "      <td>635</td>\n",
       "      <td>70.0</td>\n",
       "      <td>0</td>\n",
       "    </tr>\n",
       "    <tr>\n",
       "      <th>7</th>\n",
       "      <td>103501</td>\n",
       "      <td>2015</td>\n",
       "      <td>26</td>\n",
       "      <td>565</td>\n",
       "      <td>121.0</td>\n",
       "      <td>0</td>\n",
       "    </tr>\n",
       "    <tr>\n",
       "      <th>8</th>\n",
       "      <td>103501</td>\n",
       "      <td>2016</td>\n",
       "      <td>24</td>\n",
       "      <td>647</td>\n",
       "      <td>103.0</td>\n",
       "      <td>0</td>\n",
       "    </tr>\n",
       "    <tr>\n",
       "      <th>9</th>\n",
       "      <td>103501</td>\n",
       "      <td>2016</td>\n",
       "      <td>26</td>\n",
       "      <td>681</td>\n",
       "      <td>148.0</td>\n",
       "      <td>0</td>\n",
       "    </tr>\n",
       "  </tbody>\n",
       "</table>\n",
       "</div>"
      ],
      "text/plain": [
       "   item_nbr  year  day  store_nbr  unit_sales  onpromotion\n",
       "0     99197  2015   24         71         4.0            0\n",
       "1     99197  2015   26         25         2.0            0\n",
       "2     99197  2016   24        619        56.0            0\n",
       "3     99197  2016   26        514        37.0            0\n",
       "4    103501  2014   24        523        93.0            0\n",
       "5    103501  2014   26        589       108.0            0\n",
       "6    103501  2015   24        635        70.0            0\n",
       "7    103501  2015   26        565       121.0            0\n",
       "8    103501  2016   24        647       103.0            0\n",
       "9    103501  2016   26        681       148.0            0"
      ]
     },
     "execution_count": 15,
     "metadata": {},
     "output_type": "execute_result"
    }
   ],
   "source": [
    "data_df4 = data_df3.reset_index()\n",
    "data_df4.head(10)"
   ]
  },
  {
   "cell_type": "code",
   "execution_count": 16,
   "metadata": {},
   "outputs": [],
   "source": [
    "data_df4 = data_df4.rename(columns={\"onpromotion\": \"num_stores_promoted\"})"
   ]
  },
  {
   "cell_type": "code",
   "execution_count": 17,
   "metadata": {},
   "outputs": [
    {
     "data": {
      "text/html": [
       "<div>\n",
       "<style scoped>\n",
       "    .dataframe tbody tr th:only-of-type {\n",
       "        vertical-align: middle;\n",
       "    }\n",
       "\n",
       "    .dataframe tbody tr th {\n",
       "        vertical-align: top;\n",
       "    }\n",
       "\n",
       "    .dataframe thead th {\n",
       "        text-align: right;\n",
       "    }\n",
       "</style>\n",
       "<table border=\"1\" class=\"dataframe\">\n",
       "  <thead>\n",
       "    <tr style=\"text-align: right;\">\n",
       "      <th></th>\n",
       "      <th>item_nbr</th>\n",
       "      <th>year</th>\n",
       "      <th>day</th>\n",
       "      <th>unit_sales</th>\n",
       "      <th>num_stores_promoted</th>\n",
       "      <th>num_stores_sold</th>\n",
       "    </tr>\n",
       "  </thead>\n",
       "  <tbody>\n",
       "    <tr>\n",
       "      <th>0</th>\n",
       "      <td>99197</td>\n",
       "      <td>2015</td>\n",
       "      <td>24</td>\n",
       "      <td>4.0</td>\n",
       "      <td>0</td>\n",
       "      <td>2</td>\n",
       "    </tr>\n",
       "    <tr>\n",
       "      <th>1</th>\n",
       "      <td>99197</td>\n",
       "      <td>2015</td>\n",
       "      <td>26</td>\n",
       "      <td>2.0</td>\n",
       "      <td>0</td>\n",
       "      <td>1</td>\n",
       "    </tr>\n",
       "    <tr>\n",
       "      <th>2</th>\n",
       "      <td>99197</td>\n",
       "      <td>2016</td>\n",
       "      <td>24</td>\n",
       "      <td>56.0</td>\n",
       "      <td>0</td>\n",
       "      <td>19</td>\n",
       "    </tr>\n",
       "    <tr>\n",
       "      <th>3</th>\n",
       "      <td>99197</td>\n",
       "      <td>2016</td>\n",
       "      <td>26</td>\n",
       "      <td>37.0</td>\n",
       "      <td>0</td>\n",
       "      <td>15</td>\n",
       "    </tr>\n",
       "    <tr>\n",
       "      <th>4</th>\n",
       "      <td>103501</td>\n",
       "      <td>2014</td>\n",
       "      <td>24</td>\n",
       "      <td>93.0</td>\n",
       "      <td>0</td>\n",
       "      <td>21</td>\n",
       "    </tr>\n",
       "    <tr>\n",
       "      <th>5</th>\n",
       "      <td>103501</td>\n",
       "      <td>2014</td>\n",
       "      <td>26</td>\n",
       "      <td>108.0</td>\n",
       "      <td>0</td>\n",
       "      <td>23</td>\n",
       "    </tr>\n",
       "    <tr>\n",
       "      <th>6</th>\n",
       "      <td>103501</td>\n",
       "      <td>2015</td>\n",
       "      <td>24</td>\n",
       "      <td>70.0</td>\n",
       "      <td>0</td>\n",
       "      <td>24</td>\n",
       "    </tr>\n",
       "    <tr>\n",
       "      <th>7</th>\n",
       "      <td>103501</td>\n",
       "      <td>2015</td>\n",
       "      <td>26</td>\n",
       "      <td>121.0</td>\n",
       "      <td>0</td>\n",
       "      <td>23</td>\n",
       "    </tr>\n",
       "    <tr>\n",
       "      <th>8</th>\n",
       "      <td>103501</td>\n",
       "      <td>2016</td>\n",
       "      <td>24</td>\n",
       "      <td>103.0</td>\n",
       "      <td>0</td>\n",
       "      <td>26</td>\n",
       "    </tr>\n",
       "    <tr>\n",
       "      <th>9</th>\n",
       "      <td>103501</td>\n",
       "      <td>2016</td>\n",
       "      <td>26</td>\n",
       "      <td>148.0</td>\n",
       "      <td>0</td>\n",
       "      <td>27</td>\n",
       "    </tr>\n",
       "  </tbody>\n",
       "</table>\n",
       "</div>"
      ],
      "text/plain": [
       "   item_nbr  year  day  unit_sales  num_stores_promoted  num_stores_sold\n",
       "0     99197  2015   24         4.0                    0                2\n",
       "1     99197  2015   26         2.0                    0                1\n",
       "2     99197  2016   24        56.0                    0               19\n",
       "3     99197  2016   26        37.0                    0               15\n",
       "4    103501  2014   24        93.0                    0               21\n",
       "5    103501  2014   26       108.0                    0               23\n",
       "6    103501  2015   24        70.0                    0               24\n",
       "7    103501  2015   26       121.0                    0               23\n",
       "8    103501  2016   24       103.0                    0               26\n",
       "9    103501  2016   26       148.0                    0               27"
      ]
     },
     "execution_count": 17,
     "metadata": {},
     "output_type": "execute_result"
    }
   ],
   "source": [
    "data_df4 = data_df4.drop(['store_nbr'], axis=1)\n",
    "data_df4['num_stores_sold'] = data_df_count['store_nbr']\n",
    "data_df4.head(10)"
   ]
  },
  {
   "cell_type": "code",
   "execution_count": 18,
   "metadata": {},
   "outputs": [
    {
     "data": {
      "text/plain": [
       "item_nbr               0\n",
       "year                   0\n",
       "day                    0\n",
       "unit_sales             0\n",
       "num_stores_promoted    0\n",
       "num_stores_sold        0\n",
       "dtype: int64"
      ]
     },
     "execution_count": 18,
     "metadata": {},
     "output_type": "execute_result"
    }
   ],
   "source": [
    "data_df4.isna().sum()"
   ]
  },
  {
   "cell_type": "code",
   "execution_count": 19,
   "metadata": {},
   "outputs": [],
   "source": [
    "################################\n",
    "######### BEGIN MODELS #########\n",
    "################################"
   ]
  },
  {
   "cell_type": "code",
   "execution_count": 20,
   "metadata": {},
   "outputs": [],
   "source": [
    "data_df2 = data_df4.copy()\n",
    "# set up data \n",
    "X = data_df2.drop(['unit_sales'], axis=1)\n",
    "y = data_df2['unit_sales']"
   ]
  },
  {
   "cell_type": "code",
   "execution_count": 21,
   "metadata": {},
   "outputs": [],
   "source": [
    "# split up data to train and test sets \n",
    "XScaled =  X\n",
    "yScaled =  y.values.reshape(-1, 1)\n",
    "X_train, X_test, y_train, y_test = train_test_split(XScaled, yScaled, test_size=0.2, random_state=1)\n",
    "from sklearn.preprocessing import StandardScaler\n",
    "X_scaler = StandardScaler().fit(X_train)\n",
    "y_scaler = StandardScaler().fit(y_train)\n"
   ]
  },
  {
   "cell_type": "code",
   "execution_count": 22,
   "metadata": {},
   "outputs": [],
   "source": [
    "X_train_scaled = X_scaler.transform(X_train)\n",
    "X_test_scaled = X_scaler.transform(X_test)\n",
    "y_train_scaled = y_scaler.transform(y_train)\n",
    "y_test_scaled = y_scaler.transform(y_test)"
   ]
  },
  {
   "cell_type": "code",
   "execution_count": 23,
   "metadata": {},
   "outputs": [
    {
     "name": "stdout",
     "output_type": "stream",
     "text": [
      "LINEAR REGRESSION MODEL\n",
      "RMSE Score:\n",
      "430.3544479455433\n",
      "RSquare Score:\n",
      "0.1919035353826184\n"
     ]
    }
   ],
   "source": [
    "# Basic Linear Regression\n",
    "lr = LinearRegression() #instantiate the model with desired parameter values\n",
    "lr.fit(X_train, y_train) # fit the model to the training data\n",
    "y_pred = lr.predict(X_test) #apply the model to test data \n",
    "\n",
    "print(\"LINEAR REGRESSION MODEL\")\n",
    "print(\"RMSE Score:\")\n",
    "print(np.sqrt(metrics.mean_squared_error(y_test, y_pred))) # rmse\n",
    "print(\"RSquare Score:\")\n",
    "print(metrics.r2_score(y_test, y_pred)) # r-square\n",
    "\n",
    "\n",
    "# # plot predicted vs actual and predicted vs residuals\n",
    "# import matplotlib.pyplot as plt\n",
    "# import seaborn as sns\n",
    "# %matplotlib inline\n",
    "# sns.jointplot(y_pred, y_test) \n",
    "# sns.jointplot(y_pred, (y_test - y_pred))    "
   ]
  },
  {
   "cell_type": "code",
   "execution_count": 24,
   "metadata": {},
   "outputs": [
    {
     "data": {
      "image/png": "[encoded data removed]",
      "text/plain": [
       "<Figure size 432x288 with 1 Axes>"
      ]
     },
     "metadata": {
      "needs_background": "light"
     },
     "output_type": "display_data"
    }
   ],
   "source": [
    "# Using Linear Regession with Scaled Data \n",
    "model = LinearRegression()\n",
    "model.fit(X_train_scaled, y_train_scaled)\n",
    "plt.scatter(model.predict(X_train_scaled), model.predict(X_train_scaled) - y_train_scaled, c=\"blue\", label=\"Training Data\")\n",
    "plt.scatter(model.predict(X_test_scaled), model.predict(X_test_scaled) - y_test_scaled, c=\"orange\", label=\"Testing Data\")\n",
    "plt.legend()\n",
    "plt.hlines(y=0, xmin=y_test_scaled.min(), xmax=y_test_scaled.max())\n",
    "plt.title(\"Residual Plot\")\n",
    "plt.show()"
   ]
  },
  {
   "cell_type": "code",
   "execution_count": 25,
   "metadata": {},
   "outputs": [
    {
     "name": "stdout",
     "output_type": "stream",
     "text": [
      "LINEAR REGRESSION MODEL WITH SCALED DATA\n",
      "RMSE Score:\n",
      "0.7836763143842802\n",
      "RSquare Score:\n",
      "0.19190353538491678\n"
     ]
    }
   ],
   "source": [
    "y_pred_scaled = model.predict(X_test_scaled)\n",
    "print(\"LINEAR REGRESSION MODEL WITH SCALED DATA\")\n",
    "print(\"RMSE Score:\")\n",
    "print(np.sqrt(metrics.mean_squared_error(y_test_scaled, y_pred_scaled))) # rmse\n",
    "print(\"RSquare Score:\")\n",
    "print(metrics.r2_score(y_test_scaled, y_pred_scaled)) # r-square"
   ]
  },
  {
   "cell_type": "code",
   "execution_count": 26,
   "metadata": {},
   "outputs": [
    {
     "name": "stdout",
     "output_type": "stream",
     "text": [
      "RIDGE REGRESSION MODEL\n",
      "RMSE Score:\n",
      "430.3543427061293\n",
      "RSquare Score:\n",
      "0.19190393060840694\n"
     ]
    }
   ],
   "source": [
    "# Ridge Regression\n",
    "# https://scikit-learn.org/stable/modules/linear_model.html\n",
    "# Least squares with L2 regularization:\n",
    "# minmize ||y - Xw||^2_2 + alpha * ||w||^2_2\n",
    "\n",
    "from sklearn.linear_model import Ridge\n",
    "rr = Ridge(alpha=1.0)\n",
    "rr.fit(X_train, y_train)\n",
    "y_pred = rr.predict(X_test)  \n",
    "\n",
    "print(\"RIDGE REGRESSION MODEL\")\n",
    "print(\"RMSE Score:\")\n",
    "print(np.sqrt(metrics.mean_squared_error(y_test, y_pred))) # rmse\n",
    "print(\"RSquare Score:\")\n",
    "print(metrics.r2_score(y_test, y_pred)) # r-square"
   ]
  },
  {
   "cell_type": "code",
   "execution_count": 27,
   "metadata": {},
   "outputs": [
    {
     "name": "stdout",
     "output_type": "stream",
     "text": [
      "LASSO REGRESSION MODEL\n",
      "RMSE Score:\n",
      "430.32364589344365\n",
      "RSquare Score:\n",
      "0.19201920812053108\n"
     ]
    }
   ],
   "source": [
    "# Lasso Regression\n",
    "# https://scikit-learn.org/stable/modules/linear_model.html\n",
    "# Least squares with L2 regularization:\n",
    "# minimize (1 / (2 * n_samples)) * ||y - Xw||^2_2 + alpha * ||w||_1\n",
    "\n",
    "from sklearn.linear_model import Lasso\n",
    "lr = Lasso(alpha=1.0)\n",
    "lr.fit(X_train, y_train)\n",
    "y_pred = lr.predict(X_test)\n",
    "\n",
    "\n",
    "print(\"LASSO REGRESSION MODEL\")\n",
    "print(\"RMSE Score:\")\n",
    "print(np.sqrt(metrics.mean_squared_error(y_test, y_pred))) # rmse\n",
    "print(\"RSquare Score:\")\n",
    "print(metrics.r2_score(y_test, y_pred)) # r-square"
   ]
  },
  {
   "cell_type": "code",
   "execution_count": 28,
   "metadata": {},
   "outputs": [
    {
     "name": "stdout",
     "output_type": "stream",
     "text": [
      "ELASTICNET REGRESSION MODEL\n",
      "RMSE Score:\n",
      "430.22037793957867\n",
      "RSquare Score:\n",
      "0.192406955864609\n"
     ]
    }
   ],
   "source": [
    "# ElasticNet Regression\n",
    "# https://scikit-learn.org/stable/modules/linear_model.html\n",
    "# Least squares with L1 and L2 regularization:\n",
    "# minimize 1 / (2 * n_samples) * ||y - Xw||^2_2 + alpha * l1_ratio * ||w||_1 + 0.5 * alpha * (1 - l1_ratio) * ||w||^2_2\n",
    "\n",
    "from sklearn.linear_model import ElasticNet\n",
    "en = ElasticNet()\n",
    "en.fit(X_train, y_train)\n",
    "y_pred = en.predict(X_test)  \n",
    "\n",
    "\n",
    "print(\"ELASTICNET REGRESSION MODEL\")\n",
    "print(\"RMSE Score:\")\n",
    "print(np.sqrt(metrics.mean_squared_error(y_test, y_pred))) # rmse\n",
    "print(\"RSquare Score:\")\n",
    "print(metrics.r2_score(y_test, y_pred)) # r-square"
   ]
  },
  {
   "cell_type": "code",
   "execution_count": null,
   "metadata": {},
   "outputs": [],
   "source": []
  },
  {
   "cell_type": "code",
   "execution_count": null,
   "metadata": {},
   "outputs": [],
   "source": []
  }
 ],
 "metadata": {
  "file_extension": ".py",
  "kernelspec": {
   "display_name": "Python 3",
   "language": "python",
   "name": "python3"
  },
  "language_info": {
   "codemirror_mode": {
    "name": "ipython",
    "version": 3
   },
   "file_extension": ".py",
   "mimetype": "text/x-python",
   "name": "python",
   "nbconvert_exporter": "python",
   "pygments_lexer": "ipython3",
   "version": "3.7.0"
  },
  "mimetype": "text/x-python",
  "name": "python",
  "npconvert_exporter": "python",
  "pygments_lexer": "ipython3",
  "version": 3
 },
 "nbformat": 4,
 "nbformat_minor": 2
}
